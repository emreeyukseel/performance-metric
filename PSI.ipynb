{
 "cells": [
  {
   "cell_type": "code",
   "execution_count": 1,
   "metadata": {
    "collapsed": true
   },
   "outputs": [],
   "source": [
    "import pandas as pd\n",
    "import numpy as np"
   ]
  },
  {
   "cell_type": "code",
   "execution_count": 122,
   "metadata": {
    "collapsed": true
   },
   "outputs": [],
   "source": [
    "def mon_PSI(data_name_monitor,data_name_development,model_ID,score_name,bins):\n",
    "    data_monitor = pd.read_csv(data_name_monitor)\n",
    "    data_development = pd.read_csv(data_name_development)\n",
    "    \n",
    "    percentage_monitor = np.zeros(bins)\n",
    "    percentage_development = np.zeros(bins)\n",
    "    \n",
    "    sub_data_monitor = pd.DataFrame(data_monitor.loc[data_monitor[\"MODEL_ID\"]==model_ID,score_name].as_matrix())\n",
    "    sub_data_monitor = sub_data_monitor.rename(index=str,columns={0:score_name})\n",
    "    sub_data_monitor[\"cut\"] = pd.cut(sub_data_monitor[score_name],bins)\n",
    "    \n",
    "    sub_data_development = pd.DataFrame(data_development.loc[data_development[\"MODEL_ID\"]==model_ID,score_name].as_matrix())\n",
    "    sub_data_development = sub_data_development.rename(index=str,columns={0:score_name})\n",
    "    sub_data_development[\"cut\"] = pd.cut(sub_data_development[score_name],bins)\n",
    "    \n",
    "    for i in range(bins):\n",
    "        \n",
    "        percentage_monitor[i] = len(sub_data_monitor.loc[sub_data_monitor[\"cut\"]==sub_data_monitor[\"cut\"].unique().sort_values()[i]])/len(sub_data_monitor)\n",
    "        percentage_development[i] = len(sub_data_development.loc[sub_data_development[\"cut\"]==sub_data_development[\"cut\"].unique().sort_values()[i]])/len(sub_data_development)\n",
    "        \n",
    "        result = np.dot((percentage_monitor-percentage_development),np.log(percentage_monitor/percentage_development))\n",
    "        \n",
    "    return result"
   ]
  },
  {
   "cell_type": "code",
   "execution_count": 126,
   "metadata": {
    "scrolled": true
   },
   "outputs": [
    {
     "name": "stderr",
     "output_type": "stream",
     "text": [
      "C:\\Program Files\\Anaconda3\\lib\\site-packages\\ipykernel_launcher.py:21: RuntimeWarning: invalid value encountered in true_divide\n"
     ]
    },
    {
     "data": {
      "text/plain": [
       "[0.060648682814548452,\n",
       " 0.032738771371925636,\n",
       " 0.20297958358608617,\n",
       " 0.045521940922114812,\n",
       " 0.067420709645296756,\n",
       " 1.2804970706652776,\n",
       " 0.041214518906077288]"
      ]
     },
     "execution_count": 126,
     "metadata": {},
     "output_type": "execute_result"
    }
   ],
   "source": [
    "model_list = [22, 23, 24, 25, 26, 27, 28]\n",
    "PSI = []\n",
    "for model_id in model_list:\n",
    "    PSI.append(mon_PSI(\"cleaned_data_monitoring.csv\",\"cleaned_data_development.csv\",model_id,\n",
    "                       'FINAL_SCORE',5))\n",
    "PSI"
   ]
  }
 ],
 "metadata": {
  "kernelspec": {
   "display_name": "Python 3",
   "language": "python",
   "name": "python3"
  },
  "language_info": {
   "codemirror_mode": {
    "name": "ipython",
    "version": 3
   },
   "file_extension": ".py",
   "mimetype": "text/x-python",
   "name": "python",
   "nbconvert_exporter": "python",
   "pygments_lexer": "ipython3",
   "version": "3.6.1"
  }
 },
 "nbformat": 4,
 "nbformat_minor": 2
}
